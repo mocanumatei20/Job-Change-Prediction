{
  "cells": [
    {
      "cell_type": "code",
      "execution_count": null,
      "metadata": {
        "colab": {
          "base_uri": "https://localhost:8080/",
          "height": 1000
        },
        "id": "H-K8-phXzZdl",
        "outputId": "d2613345-4f3f-4132-c53c-3b9a634eb29d"
      },
      "outputs": [
        {
          "output_type": "stream",
          "name": "stdout",
          "text": [
            "Finalized Random Forest Classifier:\n",
            "Pipeline(memory=Memory(location=None),\n",
            "         steps=[('numerical_imputer',\n",
            "                 TransformerWrapper(exclude=None,\n",
            "                                    include=['age', 'relative_wage',\n",
            "                                             'years_since_job_change',\n",
            "                                             'years_of_experience',\n",
            "                                             'hours_of_training',\n",
            "                                             'is_certified'],\n",
            "                                    transformer=SimpleImputer(add_indicator=False,\n",
            "                                                              copy=True,\n",
            "                                                              fill_value=None,\n",
            "                                                              keep_empty_features=False,\n",
            "                                                              missing_values=nan,\n",
            "                                                              strategy='mean'))),\n",
            "                ('...\n",
            "                 RandomForestClassifier(bootstrap=True, ccp_alpha=0.0,\n",
            "                                        class_weight=None, criterion='gini',\n",
            "                                        max_depth=None, max_features='sqrt',\n",
            "                                        max_leaf_nodes=None, max_samples=None,\n",
            "                                        min_impurity_decrease=0.0,\n",
            "                                        min_samples_leaf=1, min_samples_split=2,\n",
            "                                        min_weight_fraction_leaf=0.0,\n",
            "                                        monotonic_cst=None, n_estimators=100,\n",
            "                                        n_jobs=-1, oob_score=False,\n",
            "                                        random_state=123, verbose=0,\n",
            "                                        warm_start=False))],\n",
            "         verbose=False)\n"
          ]
        },
        {
          "output_type": "display_data",
          "data": {
            "text/plain": [
              "<IPython.core.display.HTML object>"
            ],
            "text/html": []
          },
          "metadata": {}
        },
        {
          "output_type": "stream",
          "name": "stdout",
          "text": [
            "      id gender  age   education field_of_studies is_studying      county  \\\n",
            "0  12428   Male   32  higher_BSc          science          no  county_053   \n",
            "1  12429   Male   33  higher_BSc          science          no  county_005   \n",
            "2  12430   Male   36  higher_BSc          science          no  county_059   \n",
            "3  12431   Male   30  higher_MSc          science          no  county_118   \n",
            "4  12432   Male   33  higher_MSc          science          no  county_110   \n",
            "\n",
            "   relative_wage  years_since_job_change  years_of_experience  \\\n",
            "0     166.199997                       4                  9.0   \n",
            "1     153.100006                       2                  9.0   \n",
            "2     110.449997                       5                 17.0   \n",
            "3     162.839996                       1                 10.0   \n",
            "4     163.899994                       2                 10.0   \n",
            "\n",
            "   hours_of_training  is_certified size_of_company  type_of_company  \\\n",
            "0               22.0             1          10000+  private_company   \n",
            "1              152.0             1           50-99  private_company   \n",
            "2               23.0             0          10000+  private_company   \n",
            "3               21.0             1          10000+  private_company   \n",
            "4               15.0             1         500-999  private_company   \n",
            "\n",
            "   prediction_label  prediction_score  \n",
            "0                 0              0.76  \n",
            "1                 0              0.73  \n",
            "2                 0              0.59  \n",
            "3                 0              0.75  \n",
            "4                 0              0.95  \n",
            "Predictions saved to 'test_predictions.csv'.\n"
          ]
        }
      ],
      "source": [
        "from pycaret.classification import finalize_model, predict_model, save_model\n",
        "import pandas as pd\n",
        "\n",
        "# Finalize the best model\n",
        "final_rf = finalize_model(tuned_rf)  # Retrain Random Forest on the full training dataset\n",
        "print(\"Finalized Random Forest Classifier:\")\n",
        "print(final_rf)\n",
        "\n",
        "# Generate predictions on the test dataset\n",
        "test_predictions = predict_model(final_rf, data=test_data)\n",
        "\n",
        "# Display the structure of the test_predictions DataFrame\n",
        "print(test_predictions.head())\n",
        "\n",
        "# Extract the required columns: id and predicted outcome\n",
        "output = test_predictions[['id', 'prediction_label']].rename(columns={'prediction_label': 'willing_to_change_job'})\n",
        "\n",
        "# Save the predictions to a CSV file\n",
        "output.to_csv('test_predictions.csv', index=False)\n",
        "print(\"Predictions saved to 'test_predictions.csv'.\")\n"
      ]
    }
  ],
  "metadata": {
    "colab": {
      "provenance": []
    },
    "kernelspec": {
      "display_name": "Python 3",
      "name": "python3"
    },
    "language_info": {
      "name": "python"
    }
  },
  "nbformat": 4,
  "nbformat_minor": 0
}